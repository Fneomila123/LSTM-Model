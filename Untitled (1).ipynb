{
 "cells": [
  {
   "cell_type": "code",
   "execution_count": 1,
   "id": "56d7d0c2",
   "metadata": {},
   "outputs": [],
   "source": [
    "#import the libraries "
   ]
  },
  {
   "cell_type": "code",
   "execution_count": 132,
   "id": "dfc77482",
   "metadata": {},
   "outputs": [],
   "source": [
    "import math\n",
    "import numpy as np \n",
    "import pandas as pd \n",
    "import pandas_datareader as pdr\n",
    "import matplotlib.pyplot as plt\n",
    "from keras.models import Sequential \n",
    "from keras.layers import Dense, LSTM \n",
    "plt.style.use(\"fivethirtyeight\")"
   ]
  },
  {
   "cell_type": "code",
   "execution_count": 18,
   "id": "b7b6f332",
   "metadata": {},
   "outputs": [],
   "source": [
    "#get the stock "
   ]
  },
  {
   "cell_type": "code",
   "execution_count": 126,
   "id": "f5adc81b",
   "metadata": {},
   "outputs": [],
   "source": [
    "df= pdr.DataReader('IAG.TO', data_source='yahoo', start=\"2010-02-01\", end='2022-02-18')"
   ]
  },
  {
   "cell_type": "code",
   "execution_count": 122,
   "id": "92e6caee",
   "metadata": {},
   "outputs": [
    {
     "data": {
      "text/html": [
       "<div>\n",
       "<style scoped>\n",
       "    .dataframe tbody tr th:only-of-type {\n",
       "        vertical-align: middle;\n",
       "    }\n",
       "\n",
       "    .dataframe tbody tr th {\n",
       "        vertical-align: top;\n",
       "    }\n",
       "\n",
       "    .dataframe thead th {\n",
       "        text-align: right;\n",
       "    }\n",
       "</style>\n",
       "<table border=\"1\" class=\"dataframe\">\n",
       "  <thead>\n",
       "    <tr style=\"text-align: right;\">\n",
       "      <th></th>\n",
       "      <th>High</th>\n",
       "      <th>Low</th>\n",
       "      <th>Open</th>\n",
       "      <th>Close</th>\n",
       "      <th>Volume</th>\n",
       "      <th>Adj Close</th>\n",
       "    </tr>\n",
       "    <tr>\n",
       "      <th>Date</th>\n",
       "      <th></th>\n",
       "      <th></th>\n",
       "      <th></th>\n",
       "      <th></th>\n",
       "      <th></th>\n",
       "      <th></th>\n",
       "    </tr>\n",
       "  </thead>\n",
       "  <tbody>\n",
       "    <tr>\n",
       "      <th>2010-02-01</th>\n",
       "      <td>32.209999</td>\n",
       "      <td>31.500000</td>\n",
       "      <td>32.090000</td>\n",
       "      <td>31.770000</td>\n",
       "      <td>110500.0</td>\n",
       "      <td>22.330734</td>\n",
       "    </tr>\n",
       "    <tr>\n",
       "      <th>2010-02-02</th>\n",
       "      <td>32.320000</td>\n",
       "      <td>31.709999</td>\n",
       "      <td>31.770000</td>\n",
       "      <td>32.259998</td>\n",
       "      <td>89900.0</td>\n",
       "      <td>22.675140</td>\n",
       "    </tr>\n",
       "    <tr>\n",
       "      <th>2010-02-03</th>\n",
       "      <td>32.680000</td>\n",
       "      <td>32.139999</td>\n",
       "      <td>32.349998</td>\n",
       "      <td>32.139999</td>\n",
       "      <td>135400.0</td>\n",
       "      <td>22.590794</td>\n",
       "    </tr>\n",
       "    <tr>\n",
       "      <th>2010-02-04</th>\n",
       "      <td>32.660000</td>\n",
       "      <td>31.770000</td>\n",
       "      <td>32.220001</td>\n",
       "      <td>31.809999</td>\n",
       "      <td>123100.0</td>\n",
       "      <td>22.358841</td>\n",
       "    </tr>\n",
       "    <tr>\n",
       "      <th>2010-02-05</th>\n",
       "      <td>31.930000</td>\n",
       "      <td>30.910000</td>\n",
       "      <td>31.799999</td>\n",
       "      <td>31.709999</td>\n",
       "      <td>72700.0</td>\n",
       "      <td>22.288555</td>\n",
       "    </tr>\n",
       "    <tr>\n",
       "      <th>...</th>\n",
       "      <td>...</td>\n",
       "      <td>...</td>\n",
       "      <td>...</td>\n",
       "      <td>...</td>\n",
       "      <td>...</td>\n",
       "      <td>...</td>\n",
       "    </tr>\n",
       "    <tr>\n",
       "      <th>2022-02-14</th>\n",
       "      <td>83.489998</td>\n",
       "      <td>81.220001</td>\n",
       "      <td>83.489998</td>\n",
       "      <td>81.279999</td>\n",
       "      <td>373300.0</td>\n",
       "      <td>81.279999</td>\n",
       "    </tr>\n",
       "    <tr>\n",
       "      <th>2022-02-15</th>\n",
       "      <td>82.639999</td>\n",
       "      <td>81.419998</td>\n",
       "      <td>81.739998</td>\n",
       "      <td>82.169998</td>\n",
       "      <td>205600.0</td>\n",
       "      <td>82.169998</td>\n",
       "    </tr>\n",
       "    <tr>\n",
       "      <th>2022-02-16</th>\n",
       "      <td>82.139999</td>\n",
       "      <td>80.360001</td>\n",
       "      <td>81.470001</td>\n",
       "      <td>80.629997</td>\n",
       "      <td>309500.0</td>\n",
       "      <td>80.629997</td>\n",
       "    </tr>\n",
       "    <tr>\n",
       "      <th>2022-02-17</th>\n",
       "      <td>81.040001</td>\n",
       "      <td>78.779999</td>\n",
       "      <td>80.070000</td>\n",
       "      <td>80.620003</td>\n",
       "      <td>266600.0</td>\n",
       "      <td>80.620003</td>\n",
       "    </tr>\n",
       "    <tr>\n",
       "      <th>2022-02-18</th>\n",
       "      <td>81.050003</td>\n",
       "      <td>78.559998</td>\n",
       "      <td>80.839996</td>\n",
       "      <td>79.169998</td>\n",
       "      <td>211200.0</td>\n",
       "      <td>79.169998</td>\n",
       "    </tr>\n",
       "  </tbody>\n",
       "</table>\n",
       "<p>3025 rows × 6 columns</p>\n",
       "</div>"
      ],
      "text/plain": [
       "                 High        Low       Open      Close    Volume  Adj Close\n",
       "Date                                                                       \n",
       "2010-02-01  32.209999  31.500000  32.090000  31.770000  110500.0  22.330734\n",
       "2010-02-02  32.320000  31.709999  31.770000  32.259998   89900.0  22.675140\n",
       "2010-02-03  32.680000  32.139999  32.349998  32.139999  135400.0  22.590794\n",
       "2010-02-04  32.660000  31.770000  32.220001  31.809999  123100.0  22.358841\n",
       "2010-02-05  31.930000  30.910000  31.799999  31.709999   72700.0  22.288555\n",
       "...               ...        ...        ...        ...       ...        ...\n",
       "2022-02-14  83.489998  81.220001  83.489998  81.279999  373300.0  81.279999\n",
       "2022-02-15  82.639999  81.419998  81.739998  82.169998  205600.0  82.169998\n",
       "2022-02-16  82.139999  80.360001  81.470001  80.629997  309500.0  80.629997\n",
       "2022-02-17  81.040001  78.779999  80.070000  80.620003  266600.0  80.620003\n",
       "2022-02-18  81.050003  78.559998  80.839996  79.169998  211200.0  79.169998\n",
       "\n",
       "[3025 rows x 6 columns]"
      ]
     },
     "execution_count": 122,
     "metadata": {},
     "output_type": "execute_result"
    }
   ],
   "source": [
    "df"
   ]
  },
  {
   "cell_type": "code",
   "execution_count": 84,
   "id": "5f566299",
   "metadata": {},
   "outputs": [
    {
     "data": {
      "text/plain": [
       "(3025, 6)"
      ]
     },
     "execution_count": 84,
     "metadata": {},
     "output_type": "execute_result"
    }
   ],
   "source": [
    "df.shape"
   ]
  },
  {
   "cell_type": "code",
   "execution_count": 131,
   "id": "25a8459c",
   "metadata": {},
   "outputs": [
    {
     "name": "stdout",
     "output_type": "stream",
     "text": [
      "<class 'pandas.core.frame.DataFrame'>\n",
      "DatetimeIndex: 3002 entries, 2010-02-01 to 2022-01-18\n",
      "Data columns (total 6 columns):\n",
      " #   Column     Non-Null Count  Dtype  \n",
      "---  ------     --------------  -----  \n",
      " 0   High       3002 non-null   float64\n",
      " 1   Low        3002 non-null   float64\n",
      " 2   Open       3002 non-null   float64\n",
      " 3   Close      3002 non-null   float64\n",
      " 4   Volume     3002 non-null   float64\n",
      " 5   Adj Close  3002 non-null   float64\n",
      "dtypes: float64(6)\n",
      "memory usage: 164.2 KB\n"
     ]
    }
   ],
   "source": [
    "df.info()\n",
    "#df.shape"
   ]
  },
  {
   "cell_type": "code",
   "execution_count": 133,
   "id": "312283dc",
   "metadata": {},
   "outputs": [
    {
     "data": {
      "text/plain": [
       "Text(0, 0.5, 'Close Price CAD')"
      ]
     },
     "execution_count": 133,
     "metadata": {},
     "output_type": "execute_result"
    },
    {
     "data": {
      "image/png": "[encoded data removed]",
      "text/plain": [
       "<Figure size 1152x648 with 1 Axes>"
      ]
     },
     "metadata": {},
     "output_type": "display_data"
    }
   ],
   "source": [
    "#visualize the closing price \n",
    "plt.figure(figsize=(16, 9))\n",
    "plt.plot(df['Close'])\n",
    "plt.xlabel('Date', fontsize=19)\n",
    "plt.ylabel('Close Price CAD', fontsize= 19)\n"
   ]
  },
  {
   "cell_type": "code",
   "execution_count": 35,
   "id": "015ee6be",
   "metadata": {},
   "outputs": [],
   "source": [
    "#In the y-axis is in milliion CAD "
   ]
  },
  {
   "cell_type": "code",
   "execution_count": 36,
   "id": "161c54cc",
   "metadata": {},
   "outputs": [],
   "source": [
    "#Now, let's focus on the Close values, to be able to do it, we have  to create a new daa frame w.r.t the Close."
   ]
  },
  {
   "cell_type": "code",
   "execution_count": 38,
   "id": "e0130478",
   "metadata": {},
   "outputs": [],
   "source": [
    "DataClose= df.filter(['Close'])\n",
    "dataset= DataClose.values #convert the dataframe for Close into numpy array (like a matrix (3025, 1))\n"
   ]
  },
  {
   "cell_type": "code",
   "execution_count": 39,
   "id": "f0ffd0c0",
   "metadata": {},
   "outputs": [
    {
     "data": {
      "text/plain": [
       "array([[31.77000046],\n",
       "       [32.25999832],\n",
       "       [32.13999939],\n",
       "       ...,\n",
       "       [80.62999725],\n",
       "       [80.62000275],\n",
       "       [79.16999817]])"
      ]
     },
     "execution_count": 39,
     "metadata": {},
     "output_type": "execute_result"
    }
   ],
   "source": [
    "dataset"
   ]
  },
  {
   "cell_type": "code",
   "execution_count": 105,
   "id": "d431c343",
   "metadata": {},
   "outputs": [
    {
     "data": {
      "text/plain": [
       "2420"
      ]
     },
     "execution_count": 105,
     "metadata": {},
     "output_type": "execute_result"
    }
   ],
   "source": [
    "#Data train.\n",
    "l= len(dataset)\n",
    "training_data_len =math.ceil( l*.8) #80% of the data to be trained\n",
    "training_data_len"
   ]
  },
  {
   "cell_type": "code",
   "execution_count": 44,
   "id": "52a0c0bf",
   "metadata": {},
   "outputs": [],
   "source": [
    "#According to the data frame, it seems that the data as a large number, we have to scale it by MinMax"
   ]
  },
  {
   "cell_type": "code",
   "execution_count": 47,
   "id": "dcf52d6a",
   "metadata": {},
   "outputs": [
    {
     "data": {
      "text/plain": [
       "array([[0.17334591],\n",
       "       [0.18104664],\n",
       "       [0.17916076],\n",
       "       ...,\n",
       "       [0.94122261],\n",
       "       [0.94106554],\n",
       "       [0.91827747]])"
      ]
     },
     "execution_count": 47,
     "metadata": {},
     "output_type": "execute_result"
    }
   ],
   "source": [
    "scaler=MinMaxScaler(feature_range=(0,1))\n",
    "scaled_data= scaler.fit_transform(dataset)\n",
    "scaled_data"
   ]
  },
  {
   "cell_type": "code",
   "execution_count": 57,
   "id": "05adc152",
   "metadata": {},
   "outputs": [
    {
     "name": "stdout",
     "output_type": "stream",
     "text": [
      "[array([0.17334591, 0.18104664, 0.17916076, 0.17397453, 0.17240294,\n",
      "       0.16957411, 0.1775892 , 0.17696055, 0.17947508, 0.19739115,\n",
      "       0.21373566, 0.21609306, 0.20807794, 0.20729216, 0.20289174,\n",
      "       0.19739115, 0.19739115, 0.19456229, 0.19534807, 0.19220495,\n",
      "       0.19204776, 0.20226309, 0.20367752, 0.2055634 , 0.20257741,\n",
      "       0.1991199 , 0.20084866, 0.20289174, 0.20399184, 0.20713496,\n",
      "       0.20886372, 0.22253656, 0.22332234, 0.21153544, 0.22002202,\n",
      "       0.21797894, 0.22269369, 0.22049348, 0.22237936, 0.21797894,\n",
      "       0.2197077 , 0.22410812, 0.22756563, 0.22992297, 0.23636647,\n",
      "       0.22709411, 0.23290902, 0.23432345, 0.22552255, 0.21955051,\n",
      "       0.21593587, 0.21656451, 0.21766462, 0.21782175, 0.21923618,\n",
      "       0.2208078 , 0.22127926, 0.23290902, 0.23118027, 0.22520822])]\n",
      "[0.22945151184574952]\n"
     ]
    }
   ],
   "source": [
    "#create the traning data set \n",
    "train_data= scaled_data[0: trainning_data_len, :]\n",
    "#split the data into x_train andy_train \n",
    "x_train = []\n",
    "y_train = []\n",
    "#create a foor loop to see what happend in 60 days \n",
    "\n",
    "for i in range(60, len(train_data)):\n",
    "    x_train.append(train_data[i-60: i, 0])\n",
    "    y_train.append(train_data[i, 0])\n",
    "    if i<=60:\n",
    "        print(x_train)\n",
    "        print(y_train)"
   ]
  },
  {
   "cell_type": "code",
   "execution_count": 59,
   "id": "c51d566b",
   "metadata": {},
   "outputs": [],
   "source": [
    "#convert x_train and y_train intto numpy array \n",
    "x_train, y_train = np.array(x_train), np.array(y_train)"
   ]
  },
  {
   "cell_type": "code",
   "execution_count": 61,
   "id": "99e0fbc5",
   "metadata": {},
   "outputs": [],
   "source": [
    "x_train = np.reshape(x_train, (x_train.shape[0], x_train.shape[1], 1))"
   ]
  },
  {
   "cell_type": "code",
   "execution_count": 62,
   "id": "f7df3e34",
   "metadata": {},
   "outputs": [
    {
     "data": {
      "text/plain": [
       "(2360, 60, 1)"
      ]
     },
     "execution_count": 62,
     "metadata": {},
     "output_type": "execute_result"
    }
   ],
   "source": [
    "x_train.shape"
   ]
  },
  {
   "cell_type": "code",
   "execution_count": 76,
   "id": "02b08189",
   "metadata": {},
   "outputs": [],
   "source": [
    "#Build our LSTM Model \n",
    "model= Sequential()\n",
    "model.add(LSTM(50, return_sequences=True, input_shape=(x_train.shape[1],1)))\n",
    "model.add(LSTM(50, return_sequences= False))\n",
    "model.add(Dense(25))\n",
    "model.add(Dense(1))"
   ]
  },
  {
   "cell_type": "code",
   "execution_count": 79,
   "id": "ffa0b9db",
   "metadata": {},
   "outputs": [],
   "source": [
    "#Compile the mode \n",
    "model.compile(optimizer='adam', loss='mean_squared_error')"
   ]
  },
  {
   "cell_type": "code",
   "execution_count": 81,
   "id": "fcdae43f",
   "metadata": {},
   "outputs": [
    {
     "name": "stdout",
     "output_type": "stream",
     "text": [
      "2360/2360 [==============================] - 44s 17ms/step - loss: 9.8148e-04\n"
     ]
    },
    {
     "data": {
      "text/plain": [
       "<keras.callbacks.History at 0x25b60412ac0>"
      ]
     },
     "execution_count": 81,
     "metadata": {},
     "output_type": "execute_result"
    }
   ],
   "source": [
    "#train the model \n",
    "model.fit(x_train, y_train, batch_size= 1, epochs= 1)"
   ]
  },
  {
   "cell_type": "code",
   "execution_count": 88,
   "id": "78e08d48",
   "metadata": {},
   "outputs": [],
   "source": [
    "#create the test data set\n",
    "#Create a new array containing scaled values for index 2360 to 3025\n",
    "test_data = scaled_data[trainning_data_len -60: , :]\n",
    "#Create the data sets x_test and y_test\n",
    "x_test =[]\n",
    "y_test= dataset[trainning_data_len:, :]\n",
    "for i in range(60, len(test_data)):\n",
    "    x_test.append(test_data[i-60:i, 0])\n"
   ]
  },
  {
   "cell_type": "code",
   "execution_count": 94,
   "id": "66a49018",
   "metadata": {},
   "outputs": [],
   "source": [
    "#Convert Data to an np array\n",
    "x_test=np.array(x_test)\n",
    "#reshape the data \n",
    "x_test= np.reshape(x_test, (x_test.shape[0], x_test.shape[1], 1))"
   ]
  },
  {
   "cell_type": "code",
   "execution_count": 96,
   "id": "570c52d8",
   "metadata": {},
   "outputs": [],
   "source": [
    "#Get th model predicted price values \n",
    "prediction = model.predict(x_test)\n",
    "prediction = scaler.inverse_transform(prediction)\n"
   ]
  },
  {
   "cell_type": "code",
   "execution_count": 98,
   "id": "553d165e",
   "metadata": {},
   "outputs": [
    {
     "data": {
      "text/plain": [
       "1.6112031195774552"
      ]
     },
     "execution_count": 98,
     "metadata": {},
     "output_type": "execute_result"
    }
   ],
   "source": [
    "#RMSE calculating \n",
    "rmse= np.sqrt(np.mean(prediction - y_test)**2)\n",
    "rmse"
   ]
  },
  {
   "cell_type": "code",
   "execution_count": 109,
   "id": "927dc1f6",
   "metadata": {},
   "outputs": [
    {
     "name": "stderr",
     "output_type": "stream",
     "text": [
      "C:\\Users\\FENO\\AppData\\Local\\Temp/ipykernel_10636/3802574234.py:4: SettingWithCopyWarning: \n",
      "A value is trying to be set on a copy of a slice from a DataFrame.\n",
      "Try using .loc[row_indexer,col_indexer] = value instead\n",
      "\n",
      "See the caveats in the documentation: https://pandas.pydata.org/pandas-docs/stable/user_guide/indexing.html#returning-a-view-versus-a-copy\n",
      "  valid[\"Prediction\"] = prediction\n"
     ]
    },
    {
     "data": {
      "image/png": "[encoded data removed]",
      "text/plain": [
       "<Figure size 1152x576 with 1 Axes>"
      ]
     },
     "metadata": {},
     "output_type": "display_data"
    }
   ],
   "source": [
    "#Plot the data \n",
    "train= DataClose[: training_data_len]\n",
    "valid= DataClose[training_data_len:]\n",
    "valid[\"Prediction\"] = prediction\n",
    "#visualize the data\n",
    "plt.figure(figsize=(16, 8))\n",
    "plt.title(\"Model\")\n",
    "plt.xlabel(\"Date\", fontsize = 18)\n",
    "plt.ylabel(\"Close Price  CAD\", fontsize = 18)\n",
    "plt.plot(train['Close'])\n",
    "plt.plot(valid[['Close', 'Prediction']])\n",
    "plt.legend([\"Train\", \"Val\", \"Prediction\"], loc=\"lower right\")\n",
    "plt.show()"
   ]
  },
  {
   "cell_type": "code",
   "execution_count": 110,
   "id": "2e85e1ea",
   "metadata": {},
   "outputs": [
    {
     "data": {
      "text/html": [
       "<div>\n",
       "<style scoped>\n",
       "    .dataframe tbody tr th:only-of-type {\n",
       "        vertical-align: middle;\n",
       "    }\n",
       "\n",
       "    .dataframe tbody tr th {\n",
       "        vertical-align: top;\n",
       "    }\n",
       "\n",
       "    .dataframe thead th {\n",
       "        text-align: right;\n",
       "    }\n",
       "</style>\n",
       "<table border=\"1\" class=\"dataframe\">\n",
       "  <thead>\n",
       "    <tr style=\"text-align: right;\">\n",
       "      <th></th>\n",
       "      <th>Close</th>\n",
       "      <th>Prediction</th>\n",
       "    </tr>\n",
       "    <tr>\n",
       "      <th>Date</th>\n",
       "      <th></th>\n",
       "      <th></th>\n",
       "    </tr>\n",
       "  </thead>\n",
       "  <tbody>\n",
       "    <tr>\n",
       "      <th>2019-09-24</th>\n",
       "      <td>60.610001</td>\n",
       "      <td>58.476761</td>\n",
       "    </tr>\n",
       "    <tr>\n",
       "      <th>2019-09-25</th>\n",
       "      <td>60.779999</td>\n",
       "      <td>58.650738</td>\n",
       "    </tr>\n",
       "    <tr>\n",
       "      <th>2019-09-26</th>\n",
       "      <td>60.889999</td>\n",
       "      <td>58.851936</td>\n",
       "    </tr>\n",
       "    <tr>\n",
       "      <th>2019-09-27</th>\n",
       "      <td>60.360001</td>\n",
       "      <td>59.048801</td>\n",
       "    </tr>\n",
       "    <tr>\n",
       "      <th>2019-09-30</th>\n",
       "      <td>60.290001</td>\n",
       "      <td>59.125809</td>\n",
       "    </tr>\n",
       "    <tr>\n",
       "      <th>...</th>\n",
       "      <td>...</td>\n",
       "      <td>...</td>\n",
       "    </tr>\n",
       "    <tr>\n",
       "      <th>2022-02-14</th>\n",
       "      <td>81.279999</td>\n",
       "      <td>80.145737</td>\n",
       "    </tr>\n",
       "    <tr>\n",
       "      <th>2022-02-15</th>\n",
       "      <td>82.169998</td>\n",
       "      <td>79.726570</td>\n",
       "    </tr>\n",
       "    <tr>\n",
       "      <th>2022-02-16</th>\n",
       "      <td>80.629997</td>\n",
       "      <td>79.380241</td>\n",
       "    </tr>\n",
       "    <tr>\n",
       "      <th>2022-02-17</th>\n",
       "      <td>80.620003</td>\n",
       "      <td>78.846916</td>\n",
       "    </tr>\n",
       "    <tr>\n",
       "      <th>2022-02-18</th>\n",
       "      <td>79.169998</td>\n",
       "      <td>78.356041</td>\n",
       "    </tr>\n",
       "  </tbody>\n",
       "</table>\n",
       "<p>605 rows × 2 columns</p>\n",
       "</div>"
      ],
      "text/plain": [
       "                Close  Prediction\n",
       "Date                             \n",
       "2019-09-24  60.610001   58.476761\n",
       "2019-09-25  60.779999   58.650738\n",
       "2019-09-26  60.889999   58.851936\n",
       "2019-09-27  60.360001   59.048801\n",
       "2019-09-30  60.290001   59.125809\n",
       "...               ...         ...\n",
       "2022-02-14  81.279999   80.145737\n",
       "2022-02-15  82.169998   79.726570\n",
       "2022-02-16  80.629997   79.380241\n",
       "2022-02-17  80.620003   78.846916\n",
       "2022-02-18  79.169998   78.356041\n",
       "\n",
       "[605 rows x 2 columns]"
      ]
     },
     "execution_count": 110,
     "metadata": {},
     "output_type": "execute_result"
    }
   ],
   "source": [
    "#Valid and Predicted price \n",
    "valid "
   ]
  },
  {
   "cell_type": "code",
   "execution_count": 134,
   "id": "e8725053",
   "metadata": {},
   "outputs": [
    {
     "data": {
      "text/html": [
       "<div>\n",
       "<style scoped>\n",
       "    .dataframe tbody tr th:only-of-type {\n",
       "        vertical-align: middle;\n",
       "    }\n",
       "\n",
       "    .dataframe tbody tr th {\n",
       "        vertical-align: top;\n",
       "    }\n",
       "\n",
       "    .dataframe thead th {\n",
       "        text-align: right;\n",
       "    }\n",
       "</style>\n",
       "<table border=\"1\" class=\"dataframe\">\n",
       "  <thead>\n",
       "    <tr style=\"text-align: right;\">\n",
       "      <th></th>\n",
       "      <th>High</th>\n",
       "      <th>Low</th>\n",
       "      <th>Open</th>\n",
       "      <th>Close</th>\n",
       "      <th>Volume</th>\n",
       "      <th>Adj Close</th>\n",
       "    </tr>\n",
       "    <tr>\n",
       "      <th>Date</th>\n",
       "      <th></th>\n",
       "      <th></th>\n",
       "      <th></th>\n",
       "      <th></th>\n",
       "      <th></th>\n",
       "      <th></th>\n",
       "    </tr>\n",
       "  </thead>\n",
       "  <tbody>\n",
       "    <tr>\n",
       "      <th>2010-02-01</th>\n",
       "      <td>32.209999</td>\n",
       "      <td>31.500000</td>\n",
       "      <td>32.090000</td>\n",
       "      <td>31.770000</td>\n",
       "      <td>110500.0</td>\n",
       "      <td>22.330727</td>\n",
       "    </tr>\n",
       "    <tr>\n",
       "      <th>2010-02-02</th>\n",
       "      <td>32.320000</td>\n",
       "      <td>31.709999</td>\n",
       "      <td>31.770000</td>\n",
       "      <td>32.259998</td>\n",
       "      <td>89900.0</td>\n",
       "      <td>22.675138</td>\n",
       "    </tr>\n",
       "    <tr>\n",
       "      <th>2010-02-03</th>\n",
       "      <td>32.680000</td>\n",
       "      <td>32.139999</td>\n",
       "      <td>32.349998</td>\n",
       "      <td>32.139999</td>\n",
       "      <td>135400.0</td>\n",
       "      <td>22.590799</td>\n",
       "    </tr>\n",
       "    <tr>\n",
       "      <th>2010-02-04</th>\n",
       "      <td>32.660000</td>\n",
       "      <td>31.770000</td>\n",
       "      <td>32.220001</td>\n",
       "      <td>31.809999</td>\n",
       "      <td>123100.0</td>\n",
       "      <td>22.358849</td>\n",
       "    </tr>\n",
       "    <tr>\n",
       "      <th>2010-02-05</th>\n",
       "      <td>31.930000</td>\n",
       "      <td>30.910000</td>\n",
       "      <td>31.799999</td>\n",
       "      <td>31.709999</td>\n",
       "      <td>72700.0</td>\n",
       "      <td>22.288551</td>\n",
       "    </tr>\n",
       "    <tr>\n",
       "      <th>...</th>\n",
       "      <td>...</td>\n",
       "      <td>...</td>\n",
       "      <td>...</td>\n",
       "      <td>...</td>\n",
       "      <td>...</td>\n",
       "      <td>...</td>\n",
       "    </tr>\n",
       "    <tr>\n",
       "      <th>2022-01-12</th>\n",
       "      <td>79.400002</td>\n",
       "      <td>78.279999</td>\n",
       "      <td>78.989998</td>\n",
       "      <td>78.720001</td>\n",
       "      <td>193000.0</td>\n",
       "      <td>78.720001</td>\n",
       "    </tr>\n",
       "    <tr>\n",
       "      <th>2022-01-13</th>\n",
       "      <td>79.620003</td>\n",
       "      <td>78.709999</td>\n",
       "      <td>78.739998</td>\n",
       "      <td>79.209999</td>\n",
       "      <td>168500.0</td>\n",
       "      <td>79.209999</td>\n",
       "    </tr>\n",
       "    <tr>\n",
       "      <th>2022-01-14</th>\n",
       "      <td>79.529999</td>\n",
       "      <td>78.300003</td>\n",
       "      <td>78.489998</td>\n",
       "      <td>79.410004</td>\n",
       "      <td>170600.0</td>\n",
       "      <td>79.410004</td>\n",
       "    </tr>\n",
       "    <tr>\n",
       "      <th>2022-01-17</th>\n",
       "      <td>80.959999</td>\n",
       "      <td>79.349998</td>\n",
       "      <td>79.529999</td>\n",
       "      <td>80.699997</td>\n",
       "      <td>94200.0</td>\n",
       "      <td>80.699997</td>\n",
       "    </tr>\n",
       "    <tr>\n",
       "      <th>2022-01-18</th>\n",
       "      <td>82.000000</td>\n",
       "      <td>80.360001</td>\n",
       "      <td>81.000000</td>\n",
       "      <td>81.580002</td>\n",
       "      <td>431900.0</td>\n",
       "      <td>81.580002</td>\n",
       "    </tr>\n",
       "  </tbody>\n",
       "</table>\n",
       "<p>3002 rows × 6 columns</p>\n",
       "</div>"
      ],
      "text/plain": [
       "                 High        Low       Open      Close    Volume  Adj Close\n",
       "Date                                                                       \n",
       "2010-02-01  32.209999  31.500000  32.090000  31.770000  110500.0  22.330727\n",
       "2010-02-02  32.320000  31.709999  31.770000  32.259998   89900.0  22.675138\n",
       "2010-02-03  32.680000  32.139999  32.349998  32.139999  135400.0  22.590799\n",
       "2010-02-04  32.660000  31.770000  32.220001  31.809999  123100.0  22.358849\n",
       "2010-02-05  31.930000  30.910000  31.799999  31.709999   72700.0  22.288551\n",
       "...               ...        ...        ...        ...       ...        ...\n",
       "2022-01-12  79.400002  78.279999  78.989998  78.720001  193000.0  78.720001\n",
       "2022-01-13  79.620003  78.709999  78.739998  79.209999  168500.0  79.209999\n",
       "2022-01-14  79.529999  78.300003  78.489998  79.410004  170600.0  79.410004\n",
       "2022-01-17  80.959999  79.349998  79.529999  80.699997   94200.0  80.699997\n",
       "2022-01-18  82.000000  80.360001  81.000000  81.580002  431900.0  81.580002\n",
       "\n",
       "[3002 rows x 6 columns]"
      ]
     },
     "execution_count": 134,
     "metadata": {},
     "output_type": "execute_result"
    }
   ],
   "source": [
    "#Get the quote\n",
    "iA_groupe_Fin = pdr.DataReader(\"IAG.To\", data_source='yahoo', start= '2010-02-01', end=\"2022-01-18\")\n",
    "iA_groupe_Fin"
   ]
  },
  {
   "cell_type": "code",
   "execution_count": 114,
   "id": "fe42a61f",
   "metadata": {},
   "outputs": [],
   "source": [
    "#create a new data frame\n",
    "new_df= iA_groupe_Fin.filter(['Close'])\n"
   ]
  },
  {
   "cell_type": "code",
   "execution_count": 115,
   "id": "d223630a",
   "metadata": {},
   "outputs": [],
   "source": [
    "#Get the last 60 days closing price and convert the dataframe in array\n",
    "last_60_days= new_df[-60: ].values"
   ]
  },
  {
   "cell_type": "code",
   "execution_count": 118,
   "id": "6e25d7ff",
   "metadata": {},
   "outputs": [
    {
     "name": "stdout",
     "output_type": "stream",
     "text": [
      "[[77.72473]]\n"
     ]
    }
   ],
   "source": [
    "#scale the data to be in 0 and 1\n",
    "last_60_days_scaled  = scaler.transform(last_60_days)\n",
    "X_test = []\n",
    "X_test.append(last_60_days_scaled)\n",
    "X_test = np.array(X_test)\n",
    "X_test = np.reshape(X_test, (X_test.shape[0], X_test.shape[1], 1))\n",
    "pred_price = model.predict(X_test)\n",
    "pred_price = scaler.inverse_transform(pred_price)\n",
    "print(pred_price)"
   ]
  },
  {
   "cell_type": "code",
   "execution_count": 137,
   "id": "10085bcd",
   "metadata": {},
   "outputs": [
    {
     "name": "stdout",
     "output_type": "stream",
     "text": [
      "Date\n",
      "2022-02-18    79.169998\n",
      "2022-02-18    79.169998\n",
      "Name: Close, dtype: float64\n"
     ]
    }
   ],
   "source": [
    "iA_groupe_Fin2 = pdr.DataReader(\"IAG.To\", data_source='yahoo', start= '2022-02-18', end=\"2022-02-18\")\n",
    "print(iA_groupe_Fin2['Close'])"
   ]
  }
 ],
 "metadata": {
  "kernelspec": {
   "display_name": "Python 3 (ipykernel)",
   "language": "python",
   "name": "python3"
  },
  "language_info": {
   "codemirror_mode": {
    "name": "ipython",
    "version": 3
   },
   "file_extension": ".py",
   "mimetype": "text/x-python",
   "name": "python",
   "nbconvert_exporter": "python",
   "pygments_lexer": "ipython3",
   "version": "3.9.7"
  }
 },
 "nbformat": 4,
 "nbformat_minor": 5
}
